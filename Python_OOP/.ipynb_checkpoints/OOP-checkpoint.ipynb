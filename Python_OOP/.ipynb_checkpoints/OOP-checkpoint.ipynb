{
 "cells": [
  {
   "cell_type": "code",
   "execution_count": 9,
   "id": "3052151c",
   "metadata": {},
   "outputs": [],
   "source": [
    "from item import Item\n",
    "#from phone import Phone"
   ]
  },
  {
   "cell_type": "code",
   "execution_count": 10,
   "id": "1a37c46d",
   "metadata": {},
   "outputs": [],
   "source": [
    "Item.instantiate_from_csv()"
   ]
  },
  {
   "cell_type": "code",
   "execution_count": 11,
   "id": "481d43b4",
   "metadata": {},
   "outputs": [],
   "source": [
    "#print(Item.all)"
   ]
  },
  {
   "cell_type": "code",
   "execution_count": 14,
   "id": "e7f6883c",
   "metadata": {},
   "outputs": [
    {
     "ename": "AttributeError",
     "evalue": "'Item' object has no attribute 'apply_increment'",
     "output_type": "error",
     "traceback": [
      "\u001b[0;31m---------------------------------------------------------------------------\u001b[0m",
      "\u001b[0;31mAttributeError\u001b[0m                            Traceback (most recent call last)",
      "\u001b[0;32m/var/folders/cy/ms6zj5td0cg_v6qwflgypbz40000gn/T/ipykernel_3310/686193719.py\u001b[0m in \u001b[0;36m<module>\u001b[0;34m\u001b[0m\n\u001b[1;32m      1\u001b[0m \u001b[0mitem1\u001b[0m \u001b[0;34m=\u001b[0m \u001b[0mItem\u001b[0m\u001b[0;34m(\u001b[0m\u001b[0;34m\"MyItem\"\u001b[0m\u001b[0;34m,\u001b[0m\u001b[0;36m750\u001b[0m\u001b[0;34m)\u001b[0m\u001b[0;34m\u001b[0m\u001b[0;34m\u001b[0m\u001b[0m\n\u001b[1;32m      2\u001b[0m \u001b[0;31m#item1.price = -990\u001b[0m\u001b[0;34m\u001b[0m\u001b[0;34m\u001b[0m\u001b[0;34m\u001b[0m\u001b[0m\n\u001b[0;32m----> 3\u001b[0;31m \u001b[0mitem1\u001b[0m\u001b[0;34m.\u001b[0m\u001b[0mapply_increment\u001b[0m\u001b[0;34m(\u001b[0m\u001b[0;36m0.2\u001b[0m\u001b[0;34m)\u001b[0m\u001b[0;34m\u001b[0m\u001b[0;34m\u001b[0m\u001b[0m\n\u001b[0m\u001b[1;32m      4\u001b[0m \u001b[0mprint\u001b[0m\u001b[0;34m(\u001b[0m\u001b[0mitem1\u001b[0m\u001b[0;34m.\u001b[0m\u001b[0mprice\u001b[0m\u001b[0;34m)\u001b[0m\u001b[0;34m\u001b[0m\u001b[0;34m\u001b[0m\u001b[0m\n",
      "\u001b[0;31mAttributeError\u001b[0m: 'Item' object has no attribute 'apply_increment'"
     ]
    }
   ],
   "source": [
    "item1 = Item(\"MyItem\",750)\n",
    "#item1.price = -990\n",
    "item1.apply_increment(0.2)\n",
    "print(item1.price)"
   ]
  },
  {
   "cell_type": "code",
   "execution_count": 6,
   "id": "7b8ff3d3",
   "metadata": {},
   "outputs": [
    {
     "data": {
      "text/plain": [
       "Item('MyItem', 750, 0)"
      ]
     },
     "execution_count": 6,
     "metadata": {},
     "output_type": "execute_result"
    }
   ],
   "source": [
    "item1"
   ]
  },
  {
   "cell_type": "code",
   "execution_count": 7,
   "id": "75c1b455",
   "metadata": {},
   "outputs": [],
   "source": [
    "phone = Item(\"phone\",750)"
   ]
  },
  {
   "cell_type": "code",
   "execution_count": 8,
   "id": "276ed263",
   "metadata": {},
   "outputs": [
    {
     "data": {
      "text/plain": [
       "Item('phone', 750, 0)"
      ]
     },
     "execution_count": 8,
     "metadata": {},
     "output_type": "execute_result"
    }
   ],
   "source": [
    "phone"
   ]
  },
  {
   "cell_type": "code",
   "execution_count": null,
   "id": "f969e482",
   "metadata": {},
   "outputs": [],
   "source": []
  },
  {
   "cell_type": "code",
   "execution_count": null,
   "id": "d27d0e93",
   "metadata": {},
   "outputs": [],
   "source": []
  },
  {
   "cell_type": "markdown",
   "id": "5e835bb1",
   "metadata": {},
   "source": [
    "## Inheritence\n",
    "create the another class that support additional function to certain instance, for example, we would like to check if the phone is broken"
   ]
  },
  {
   "cell_type": "code",
   "execution_count": null,
   "id": "dc08da74",
   "metadata": {},
   "outputs": [],
   "source": [
    "## child class which inherite the names from parent class\n",
    "## to prevent duplicate attributes and methods, one way is to use key arguments\n",
    "class Phone(Item):\n",
    "    ## constructor: self:instance, name: instance attribute etc)\n",
    "    def __init__(self, name:str, price:float, quantity=0, broken_phones=0):\n",
    "        # call to super function to have access to all attributes/methods\n",
    "        super().__init__(\n",
    "            name,price,quantity\n",
    "        )\n",
    "        \n",
    "        assert broken_phones >= 0, f\"broken_phones {broken_phones} is not greater than 0\"\n",
    "\n",
    "        self.broken_phones = broken_phones\n",
    "    \n",
    "        "
   ]
  },
  {
   "cell_type": "code",
   "execution_count": null,
   "id": "09836685",
   "metadata": {},
   "outputs": [],
   "source": [
    "#phone1 = Item(\"jscPhonev10\",500,5)\n",
    "phone1 = Phone(\"jscPhonev10\",500,5,1)\n",
    "phone2 = Phone(\"jscPhonev20\",700,5,1)\n",
    "\n"
   ]
  },
  {
   "cell_type": "code",
   "execution_count": null,
   "id": "71509d1f",
   "metadata": {},
   "outputs": [],
   "source": [
    "phone1.calculate_total_price()"
   ]
  },
  {
   "cell_type": "code",
   "execution_count": null,
   "id": "c8d80ce6",
   "metadata": {},
   "outputs": [],
   "source": [
    "print(Item.all)\n",
    "print(Phone.all)"
   ]
  },
  {
   "cell_type": "code",
   "execution_count": null,
   "id": "0e50a9f3",
   "metadata": {},
   "outputs": [],
   "source": []
  },
  {
   "cell_type": "code",
   "execution_count": null,
   "id": "d61fca9d",
   "metadata": {},
   "outputs": [],
   "source": [
    "print(Item.is_integer(7.5))"
   ]
  },
  {
   "cell_type": "code",
   "execution_count": null,
   "id": "36325022",
   "metadata": {},
   "outputs": [],
   "source": [
    "Item.instantiate_from_csv()\n",
    "print(Item.all)"
   ]
  },
  {
   "cell_type": "code",
   "execution_count": null,
   "id": "11641aa5",
   "metadata": {},
   "outputs": [],
   "source": [
    "Stop at 1:03:45"
   ]
  },
  {
   "cell_type": "code",
   "execution_count": null,
   "id": "ed5cfc1e",
   "metadata": {},
   "outputs": [],
   "source": [
    "## after class method then applying the instance method to each instance in the class list\n",
    "for item in Item.all:\n",
    "    item.pay_rate=0.5 \n",
    "    item.apply_discount()\n",
    "    print(f\"discount price: {item.price}, total price:{item.calculate_total_price()}\")"
   ]
  },
  {
   "cell_type": "code",
   "execution_count": null,
   "id": "85b86af3",
   "metadata": {},
   "outputs": [],
   "source": []
  },
  {
   "cell_type": "code",
   "execution_count": null,
   "id": "e8f606d3",
   "metadata": {},
   "outputs": [],
   "source": [
    "item1 = Item(\"Phone\", 100, 1)\n",
    "item2 = Item(\"Laptop\", 1000, 3)\n",
    "item3 = Item(\"Cable\", 10, 5)\n",
    "item4 = Item(\"Mouse\", 50, 5)\n",
    "item5 = Item(\"Keyboard\", 75, 5)"
   ]
  },
  {
   "cell_type": "code",
   "execution_count": null,
   "id": "56ce3409",
   "metadata": {},
   "outputs": [],
   "source": [
    "print(Item.all)"
   ]
  },
  {
   "cell_type": "code",
   "execution_count": null,
   "id": "90424516",
   "metadata": {},
   "outputs": [],
   "source": [
    "for instance in Item.all:\n",
    "    print(instance.name)"
   ]
  },
  {
   "cell_type": "code",
   "execution_count": null,
   "id": "6948f294",
   "metadata": {},
   "outputs": [],
   "source": []
  },
  {
   "cell_type": "code",
   "execution_count": null,
   "id": "63a605bd",
   "metadata": {},
   "outputs": [],
   "source": []
  },
  {
   "cell_type": "code",
   "execution_count": null,
   "id": "e0b8b4ba",
   "metadata": {},
   "outputs": [],
   "source": [
    "print(Item.__dict__)# output the class attribute at class level)"
   ]
  },
  {
   "cell_type": "code",
   "execution_count": null,
   "id": "c99c1b2c",
   "metadata": {},
   "outputs": [],
   "source": [
    "print(Item.pay_rate)"
   ]
  },
  {
   "cell_type": "code",
   "execution_count": null,
   "id": "02586791",
   "metadata": {},
   "outputs": [],
   "source": [
    "item1 = Item(\"phone\", 100, 1)\n",
    "print(item1.pay_rate)\n",
    "item1.apply_discount()\n",
    "print(item1.price)"
   ]
  },
  {
   "cell_type": "code",
   "execution_count": null,
   "id": "40415206",
   "metadata": {},
   "outputs": [],
   "source": [
    "item2 = Item(\"Laptop\",1000,3)\n",
    "item2.pay_rate = 0.7\n",
    "item2.apply_discount()\n",
    "print(item2.price)\n",
    "\n"
   ]
  },
  {
   "cell_type": "code",
   "execution_count": null,
   "id": "a030fbf4",
   "metadata": {},
   "outputs": [],
   "source": []
  },
  {
   "cell_type": "code",
   "execution_count": null,
   "id": "71eb52a0",
   "metadata": {},
   "outputs": [],
   "source": [
    "print(item1.__dict__)# output the instance attributes"
   ]
  },
  {
   "cell_type": "code",
   "execution_count": null,
   "id": "6c77ef80",
   "metadata": {},
   "outputs": [],
   "source": [
    "print(item1.apply_discount())"
   ]
  },
  {
   "cell_type": "code",
   "execution_count": null,
   "id": "e2b2e578",
   "metadata": {},
   "outputs": [],
   "source": [
    "item1.price= 200\n",
    "item1.has_case = False"
   ]
  },
  {
   "cell_type": "code",
   "execution_count": null,
   "id": "20908c3d",
   "metadata": {},
   "outputs": [],
   "source": [
    "print(item1.calculate_total_price())"
   ]
  },
  {
   "cell_type": "code",
   "execution_count": null,
   "id": "51849e0b",
   "metadata": {},
   "outputs": [],
   "source": [
    "print(item1.has_case)"
   ]
  },
  {
   "cell_type": "code",
   "execution_count": null,
   "id": "79625226",
   "metadata": {},
   "outputs": [],
   "source": []
  },
  {
   "cell_type": "code",
   "execution_count": null,
   "id": "8c1b2ea2",
   "metadata": {},
   "outputs": [],
   "source": []
  },
  {
   "cell_type": "code",
   "execution_count": null,
   "id": "68079e57",
   "metadata": {},
   "outputs": [],
   "source": [
    "# __str__ and __repr__\n",
    "\n",
    "a = 1\n",
    "print(str(a) + '11')"
   ]
  },
  {
   "cell_type": "code",
   "execution_count": null,
   "id": "7e0bb740",
   "metadata": {},
   "outputs": [],
   "source": [
    "class CustomizedInteger:\n",
    "    def __init__(self,integer):\n",
    "        self.integer = integer\n",
    "    ## if both __str__ and __repr__ exist, then object display __str__ first\n",
    "    def __str__(self):\n",
    "        if self.integer == 4:\n",
    "            return 'Four'\n",
    "    \n",
    "    def __repr__(self):\n",
    "        return f'CustomizedInteger({self.integer})'\n",
    "    "
   ]
  },
  {
   "cell_type": "code",
   "execution_count": null,
   "id": "44e406e2",
   "metadata": {},
   "outputs": [],
   "source": [
    "int1 = CustomizedInteger(4)\n",
    "print(int1)\n",
    "print(str(int1))"
   ]
  },
  {
   "cell_type": "code",
   "execution_count": null,
   "id": "72f5393a",
   "metadata": {},
   "outputs": [],
   "source": [
    "int1"
   ]
  },
  {
   "cell_type": "code",
   "execution_count": null,
   "id": "f7e4e265",
   "metadata": {},
   "outputs": [],
   "source": [
    "str(int1)"
   ]
  },
  {
   "cell_type": "code",
   "execution_count": null,
   "id": "d5bad28c",
   "metadata": {},
   "outputs": [],
   "source": [
    "print(int1)"
   ]
  },
  {
   "cell_type": "code",
   "execution_count": null,
   "id": "9b4825d3",
   "metadata": {},
   "outputs": [],
   "source": [
    "a =1 \n",
    "\n",
    "\n",
    "print(a)"
   ]
  },
  {
   "cell_type": "code",
   "execution_count": null,
   "id": "83d6a6a9",
   "metadata": {},
   "outputs": [],
   "source": [
    "a"
   ]
  },
  {
   "cell_type": "code",
   "execution_count": null,
   "id": "ea9e4b0e",
   "metadata": {},
   "outputs": [],
   "source": [
    "str(a)"
   ]
  },
  {
   "cell_type": "code",
   "execution_count": null,
   "id": "75ff20db",
   "metadata": {},
   "outputs": [],
   "source": [
    "int2 = CustomizedInteger(8)\n"
   ]
  },
  {
   "cell_type": "code",
   "execution_count": null,
   "id": "b26d8dfd",
   "metadata": {},
   "outputs": [],
   "source": [
    "int2"
   ]
  },
  {
   "cell_type": "code",
   "execution_count": null,
   "id": "a32692a2",
   "metadata": {},
   "outputs": [],
   "source": [
    "print(int2)"
   ]
  },
  {
   "cell_type": "code",
   "execution_count": null,
   "id": "99db0637",
   "metadata": {},
   "outputs": [],
   "source": [
    "CustomizedInteger?"
   ]
  },
  {
   "cell_type": "markdown",
   "id": "4d7d7432",
   "metadata": {},
   "source": [
    "## when to use class methods and when to use static method, and both methods are normally at class level\n",
    "\n"
   ]
  },
  {
   "cell_type": "code",
   "execution_count": null,
   "id": "0d3deaa1",
   "metadata": {},
   "outputs": [],
   "source": [
    "Class Item:\n",
    "    @staticmethod\n",
    "    def is_integer:\n",
    "        '''\n",
    "        This should do something that has a relationship with the class, but not something that must be unique per instance\n",
    "        '''\n",
    "        \n",
    "        \n",
    "    @classmethod\n",
    "    def instantiate_from_something(cls):\n",
    "        '''\n",
    "        This should also do something that has a relationship with the class but usually, those are used to manipulate different structures of data to instantiate objects, like we have done with CSV.\n",
    "        '''\n",
    "        \n",
    "        "
   ]
  }
 ],
 "metadata": {
  "kernelspec": {
   "display_name": "Python 3 (ipykernel)",
   "language": "python",
   "name": "python3"
  },
  "language_info": {
   "codemirror_mode": {
    "name": "ipython",
    "version": 3
   },
   "file_extension": ".py",
   "mimetype": "text/x-python",
   "name": "python",
   "nbconvert_exporter": "python",
   "pygments_lexer": "ipython3",
   "version": "3.8.9"
  }
 },
 "nbformat": 4,
 "nbformat_minor": 5
}
